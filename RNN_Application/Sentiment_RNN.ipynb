{
 "cells": [
  {
   "cell_type": "code",
   "execution_count": 1,
   "metadata": {},
   "outputs": [
    {
     "data": {
      "text/plain": [
       "'C:\\\\Users\\\\user'"
      ]
     },
     "execution_count": 1,
     "metadata": {},
     "output_type": "execute_result"
    }
   ],
   "source": [
    "pwd"
   ]
  },
  {
   "cell_type": "code",
   "execution_count": 2,
   "metadata": {},
   "outputs": [
    {
     "name": "stdout",
     "output_type": "stream",
     "text": [
      "C:\\Users\\user\\OneDrive\\Desktop\n"
     ]
    }
   ],
   "source": [
    "cd C:/Users/user/OneDrive/Desktop/"
   ]
  },
  {
   "cell_type": "code",
   "execution_count": 3,
   "metadata": {},
   "outputs": [],
   "source": [
    "import numpy as np"
   ]
  },
  {
   "cell_type": "code",
   "execution_count": 4,
   "metadata": {},
   "outputs": [
    {
     "name": "stderr",
     "output_type": "stream",
     "text": [
      "Using TensorFlow backend.\n"
     ]
    }
   ],
   "source": [
    "import keras"
   ]
  },
  {
   "cell_type": "code",
   "execution_count": 5,
   "metadata": {},
   "outputs": [],
   "source": [
    "from keras.preprocessing.text import Tokenizer\n",
    "from keras.preprocessing.sequence import pad_sequences\n",
    "from keras.models import Sequential\n",
    "from keras.layers import Embedding , LSTM , Dense , Dropout"
   ]
  },
  {
   "cell_type": "code",
   "execution_count": 6,
   "metadata": {},
   "outputs": [],
   "source": [
    "# reading data\n",
    "\n",
    "with open('reviews.txt') as f:\n",
    "    reviews = f.read()\n",
    "    \n",
    "with open('labels.txt') as f:\n",
    "    labels = f.read()"
   ]
  },
  {
   "cell_type": "code",
   "execution_count": 7,
   "metadata": {},
   "outputs": [
    {
     "name": "stdout",
     "output_type": "stream",
     "text": [
      "bromwell high is a cartoon comedy . it ran at the same time as some other programs about school life  such as  teachers  . my   years in the teaching profession lead me to believe that bromwell high  s satire is much closer to reality than is  teachers  . the scramble to survive financially  the insightful students who can see right through their pathetic teachers  pomp  the pettiness of the whole situation  all remind me of the schools i knew and their students . when i saw the episode in which a student repeatedly tried to burn down the school  i immediately recalled . . . . . . . . . at . . . . . . . . . . high . a classic line inspector i  m here to sack one of your teachers . student welcome to bromwell high . i expect that many adults of my age think that bromwell high is far fetched . what a pity that it isn  t   \n",
      "story of a man who has unnatural feelings for a pig . starts out with a opening scene that is a terrific example of absurd comedy . a formal orchestra audience is turn\n",
      "\n",
      "positive\n",
      "negative\n",
      "po\n"
     ]
    }
   ],
   "source": [
    "\n",
    "print(reviews[:1000])\n",
    "print()\n",
    "print(labels[:20])\n"
   ]
  },
  {
   "cell_type": "markdown",
   "metadata": {},
   "source": [
    "# Data pre-processing"
   ]
  },
  {
   "cell_type": "code",
   "execution_count": 8,
   "metadata": {},
   "outputs": [],
   "source": [
    "# removing punctuation\n",
    "from string import punctuation\n",
    "\n",
    "reviews = reviews.lower()\n",
    "all_text = ''.join([i for i in reviews if i not in punctuation])\n",
    "\n",
    "# seperate all review\n",
    "reviews_split = all_text.split('\\n')\n",
    "\n",
    "all_text = ''.join(reviews_split)\n",
    "\n",
    "words = all_text.split()"
   ]
  },
  {
   "cell_type": "code",
   "execution_count": 9,
   "metadata": {},
   "outputs": [
    {
     "name": "stdout",
     "output_type": "stream",
     "text": [
      "['bromwell high is a cartoon comedy  it ran at the same time as some other programs about school life  such as  teachers   my   years in the teaching profession lead me to believe that bromwell high  s satire is much closer to reality than is  teachers   the scramble to survive financially  the insightful students who can see right through their pathetic teachers  pomp  the pettiness of the whole situation  all remind me of the schools i knew and their students  when i saw the episode in which a student repeatedly tried to burn down the school  i immediately recalled          at           high  a classic line inspector i  m here to sack one of your teachers  student welcome to bromwell high  i expect that many adults of my age think that bromwell high is far fetched  what a pity that it isn  t   ', 'story of a man who has unnatural feelings for a pig  starts out with a opening scene that is a terrific example of absurd comedy  a formal orchestra audience is turned into an insane  violent mob by the crazy chantings of it  s singers  unfortunately it stays absurd the whole time with no general narrative eventually making it just too off putting  even those from the era should be turned off  the cryptic dialogue would make shakespeare seem easy to a third grader  on a technical level it  s better than you might think with some good cinematography by future great vilmos zsigmond  future stars sally kirkland and frederic forrest can be seen briefly   ']\n",
      "25001\n"
     ]
    }
   ],
   "source": [
    "print(reviews_split[0:2])\n",
    "\n",
    "print(len(reviews_split))"
   ]
  },
  {
   "cell_type": "code",
   "execution_count": 10,
   "metadata": {},
   "outputs": [
    {
     "data": {
      "text/plain": [
       "['bromwell', 'high', 'is', 'a', 'cartoon', 'comedy', 'it', 'ran', 'at', 'the']"
      ]
     },
     "execution_count": 10,
     "metadata": {},
     "output_type": "execute_result"
    }
   ],
   "source": [
    "words[:10]"
   ]
  },
  {
   "cell_type": "markdown",
   "metadata": {},
   "source": [
    "### Encoading the word"
   ]
  },
  {
   "cell_type": "code",
   "execution_count": 11,
   "metadata": {},
   "outputs": [],
   "source": [
    "from collections import Counter\n",
    "\n",
    "## Build a dictionary that maps words to integers\n",
    "counts = Counter(words)  # this will count the words how many time they are occured   OR unique word\n",
    "\n",
    "vocab = sorted(counts, key=counts.get, reverse=True)\n",
    "vocab_to_int = {word: ii for ii, word in enumerate(vocab, 1)}"
   ]
  },
  {
   "cell_type": "code",
   "execution_count": 12,
   "metadata": {},
   "outputs": [
    {
     "data": {
      "text/plain": [
       "{'the': 1,\n",
       " 'and': 2,\n",
       " 'a': 3,\n",
       " 'of': 4,\n",
       " 'to': 5,\n",
       " 'is': 6,\n",
       " 'br': 7,\n",
       " 'it': 8,\n",
       " 'in': 9,\n",
       " 'i': 10,\n",
       " 'this': 11,\n",
       " 'that': 12,\n",
       " 's': 13,\n",
       " 'was': 14,\n",
       " 'as': 15,\n",
       " 'for': 16,\n",
       " 'with': 17,\n",
       " 'movie': 18,\n",
       " 'but': 19,\n",
       " 'film': 20,\n",
       " 'you': 21,\n",
       " 'on': 22,\n",
       " 't': 23,\n",
       " 'not': 24,\n",
       " 'he': 25,\n",
       " 'are': 26,\n",
       " 'his': 27,\n",
       " 'have': 28,\n",
       " 'be': 29,\n",
       " 'one': 30,\n",
       " 'all': 31,\n",
       " 'at': 32,\n",
       " 'they': 33,\n",
       " 'by': 34,\n",
       " 'an': 35,\n",
       " 'who': 36,\n",
       " 'so': 37,\n",
       " 'from': 38,\n",
       " 'like': 39,\n",
       " 'there': 40,\n",
       " 'her': 41,\n",
       " 'or': 42,\n",
       " 'just': 43,\n",
       " 'about': 44,\n",
       " 'out': 45,\n",
       " 'if': 46,\n",
       " 'has': 47,\n",
       " 'what': 48,\n",
       " 'some': 49,\n",
       " 'good': 50,\n",
       " 'can': 51,\n",
       " 'more': 52,\n",
       " 'she': 53,\n",
       " 'when': 54,\n",
       " 'very': 55,\n",
       " 'up': 56,\n",
       " 'time': 57,\n",
       " 'no': 58,\n",
       " 'even': 59,\n",
       " 'my': 60,\n",
       " 'would': 61,\n",
       " 'which': 62,\n",
       " 'story': 63,\n",
       " 'only': 64,\n",
       " 'really': 65,\n",
       " 'see': 66,\n",
       " 'their': 67,\n",
       " 'had': 68,\n",
       " 'we': 69,\n",
       " 'were': 70,\n",
       " 'me': 71,\n",
       " 'well': 72,\n",
       " 'than': 73,\n",
       " 'much': 74,\n",
       " 'get': 75,\n",
       " 'bad': 76,\n",
       " 'been': 77,\n",
       " 'people': 78,\n",
       " 'will': 79,\n",
       " 'do': 80,\n",
       " 'other': 81,\n",
       " 'also': 82,\n",
       " 'into': 83,\n",
       " 'first': 84,\n",
       " 'great': 85,\n",
       " 'because': 86,\n",
       " 'how': 87,\n",
       " 'him': 88,\n",
       " 'don': 89,\n",
       " 'most': 90,\n",
       " 'made': 91,\n",
       " 'its': 92,\n",
       " 'then': 93,\n",
       " 'make': 94,\n",
       " 'way': 95,\n",
       " 'them': 96,\n",
       " 'could': 97,\n",
       " 'too': 98,\n",
       " 'movies': 99,\n",
       " 'any': 100,\n",
       " 'after': 101,\n",
       " 'think': 102,\n",
       " 'characters': 103,\n",
       " 'character': 104,\n",
       " 'watch': 105,\n",
       " 'two': 106,\n",
       " 'films': 107,\n",
       " 'seen': 108,\n",
       " 'many': 109,\n",
       " 'life': 110,\n",
       " 'being': 111,\n",
       " 'plot': 112,\n",
       " 'acting': 113,\n",
       " 'never': 114,\n",
       " 'love': 115,\n",
       " 'little': 116,\n",
       " 'best': 117,\n",
       " 'where': 118,\n",
       " 'over': 119,\n",
       " 'did': 120,\n",
       " 'show': 121,\n",
       " 'know': 122,\n",
       " 'off': 123,\n",
       " 'ever': 124,\n",
       " 'man': 125,\n",
       " 'does': 126,\n",
       " 'here': 127,\n",
       " 'better': 128,\n",
       " 'your': 129,\n",
       " 'end': 130,\n",
       " 'still': 131,\n",
       " 'these': 132,\n",
       " 'say': 133,\n",
       " 'scene': 134,\n",
       " 'why': 135,\n",
       " 'while': 136,\n",
       " 'scenes': 137,\n",
       " 'go': 138,\n",
       " 've': 139,\n",
       " 'such': 140,\n",
       " 'something': 141,\n",
       " 'should': 142,\n",
       " 'm': 143,\n",
       " 'back': 144,\n",
       " 'through': 145,\n",
       " 'real': 146,\n",
       " 'those': 147,\n",
       " 'watching': 148,\n",
       " 'now': 149,\n",
       " 'though': 150,\n",
       " 'doesn': 151,\n",
       " 'thing': 152,\n",
       " 'old': 153,\n",
       " 'years': 154,\n",
       " 're': 155,\n",
       " 'actors': 156,\n",
       " 'director': 157,\n",
       " 'work': 158,\n",
       " 'another': 159,\n",
       " 'before': 160,\n",
       " 'didn': 161,\n",
       " 'new': 162,\n",
       " 'nothing': 163,\n",
       " 'funny': 164,\n",
       " 'actually': 165,\n",
       " 'makes': 166,\n",
       " 'look': 167,\n",
       " 'find': 168,\n",
       " 'going': 169,\n",
       " 'few': 170,\n",
       " 'same': 171,\n",
       " 'part': 172,\n",
       " 'again': 173,\n",
       " 'every': 174,\n",
       " 'lot': 175,\n",
       " 'world': 176,\n",
       " 'cast': 177,\n",
       " 'us': 178,\n",
       " 'quite': 179,\n",
       " 'down': 180,\n",
       " 'want': 181,\n",
       " 'things': 182,\n",
       " 'pretty': 183,\n",
       " 'young': 184,\n",
       " 'seems': 185,\n",
       " 'around': 186,\n",
       " 'horror': 187,\n",
       " 'got': 188,\n",
       " 'however': 189,\n",
       " 'fact': 190,\n",
       " 'take': 191,\n",
       " 'big': 192,\n",
       " 'enough': 193,\n",
       " 'long': 194,\n",
       " 'thought': 195,\n",
       " 'series': 196,\n",
       " 'both': 197,\n",
       " 'between': 198,\n",
       " 'may': 199,\n",
       " 'give': 200,\n",
       " 'original': 201,\n",
       " 'action': 202,\n",
       " 'own': 203,\n",
       " 'right': 204,\n",
       " 'without': 205,\n",
       " 'must': 206,\n",
       " 'comedy': 207,\n",
       " 'always': 208,\n",
       " 'times': 209,\n",
       " 'point': 210,\n",
       " 'gets': 211,\n",
       " 'family': 212,\n",
       " 'come': 213,\n",
       " 'role': 214,\n",
       " 'isn': 215,\n",
       " 'saw': 216,\n",
       " 'almost': 217,\n",
       " 'interesting': 218,\n",
       " 'least': 219,\n",
       " 'done': 220,\n",
       " 'whole': 221,\n",
       " 'd': 222,\n",
       " 'bit': 223,\n",
       " 'music': 224,\n",
       " 'guy': 225,\n",
       " 'script': 226,\n",
       " 'far': 227,\n",
       " 'making': 228,\n",
       " 'minutes': 229,\n",
       " 'feel': 230,\n",
       " 'anything': 231,\n",
       " 'last': 232,\n",
       " 'might': 233,\n",
       " 'since': 234,\n",
       " 'performance': 235,\n",
       " 'll': 236,\n",
       " 'girl': 237,\n",
       " 'probably': 238,\n",
       " 'am': 239,\n",
       " 'woman': 240,\n",
       " 'kind': 241,\n",
       " 'tv': 242,\n",
       " 'away': 243,\n",
       " 'yet': 244,\n",
       " 'day': 245,\n",
       " 'rather': 246,\n",
       " 'worst': 247,\n",
       " 'fun': 248,\n",
       " 'sure': 249,\n",
       " 'hard': 250,\n",
       " 'anyone': 251,\n",
       " 'played': 252,\n",
       " 'each': 253,\n",
       " 'found': 254,\n",
       " 'having': 255,\n",
       " 'although': 256,\n",
       " 'especially': 257,\n",
       " 'our': 258,\n",
       " 'course': 259,\n",
       " 'believe': 260,\n",
       " 'screen': 261,\n",
       " 'comes': 262,\n",
       " 'looking': 263,\n",
       " 'trying': 264,\n",
       " 'set': 265,\n",
       " 'goes': 266,\n",
       " 'book': 267,\n",
       " 'looks': 268,\n",
       " 'place': 269,\n",
       " 'actor': 270,\n",
       " 'different': 271,\n",
       " 'put': 272,\n",
       " 'money': 273,\n",
       " 'year': 274,\n",
       " 'ending': 275,\n",
       " 'dvd': 276,\n",
       " 'maybe': 277,\n",
       " 'let': 278,\n",
       " 'someone': 279,\n",
       " 'true': 280,\n",
       " 'once': 281,\n",
       " 'sense': 282,\n",
       " 'everything': 283,\n",
       " 'reason': 284,\n",
       " 'wasn': 285,\n",
       " 'shows': 286,\n",
       " 'three': 287,\n",
       " 'worth': 288,\n",
       " 'job': 289,\n",
       " 'main': 290,\n",
       " 'together': 291,\n",
       " 'play': 292,\n",
       " 'watched': 293,\n",
       " 'american': 294,\n",
       " 'everyone': 295,\n",
       " 'plays': 296,\n",
       " 'john': 297,\n",
       " 'effects': 298,\n",
       " 'later': 299,\n",
       " 'audience': 300,\n",
       " 'said': 301,\n",
       " 'takes': 302,\n",
       " 'instead': 303,\n",
       " 'house': 304,\n",
       " 'beautiful': 305,\n",
       " 'seem': 306,\n",
       " 'night': 307,\n",
       " 'high': 308,\n",
       " 'himself': 309,\n",
       " 'version': 310,\n",
       " 'wife': 311,\n",
       " 'during': 312,\n",
       " 'left': 313,\n",
       " 'father': 314,\n",
       " 'special': 315,\n",
       " 'seeing': 316,\n",
       " 'half': 317,\n",
       " 'star': 318,\n",
       " 'excellent': 319,\n",
       " 'war': 320,\n",
       " 'shot': 321,\n",
       " 'idea': 322,\n",
       " 'black': 323,\n",
       " 'nice': 324,\n",
       " 'less': 325,\n",
       " 'else': 326,\n",
       " 'mind': 327,\n",
       " 'simply': 328,\n",
       " 'read': 329,\n",
       " 'second': 330,\n",
       " 'fan': 331,\n",
       " 'men': 332,\n",
       " 'death': 333,\n",
       " 'hollywood': 334,\n",
       " 'poor': 335,\n",
       " 'help': 336,\n",
       " 'completely': 337,\n",
       " 'used': 338,\n",
       " 'home': 339,\n",
       " 'dead': 340,\n",
       " 'line': 341,\n",
       " 'short': 342,\n",
       " 'either': 343,\n",
       " 'given': 344,\n",
       " 'top': 345,\n",
       " 'kids': 346,\n",
       " 'budget': 347,\n",
       " 'try': 348,\n",
       " 'classic': 349,\n",
       " 'wrong': 350,\n",
       " 'performances': 351,\n",
       " 'women': 352,\n",
       " 'enjoy': 353,\n",
       " 'boring': 354,\n",
       " 'need': 355,\n",
       " 'use': 356,\n",
       " 'rest': 357,\n",
       " 'low': 358,\n",
       " 'friends': 359,\n",
       " 'production': 360,\n",
       " 'full': 361,\n",
       " 'camera': 362,\n",
       " 'until': 363,\n",
       " 'along': 364,\n",
       " 'truly': 365,\n",
       " 'video': 366,\n",
       " 'awful': 367,\n",
       " 'couple': 368,\n",
       " 'tell': 369,\n",
       " 'next': 370,\n",
       " 'remember': 371,\n",
       " 'stupid': 372,\n",
       " 'start': 373,\n",
       " 'stars': 374,\n",
       " 'perhaps': 375,\n",
       " 'sex': 376,\n",
       " 'mean': 377,\n",
       " 'won': 378,\n",
       " 'came': 379,\n",
       " 'recommend': 380,\n",
       " 'moments': 381,\n",
       " 'school': 382,\n",
       " 'episode': 383,\n",
       " 'wonderful': 384,\n",
       " 'small': 385,\n",
       " 'face': 386,\n",
       " 'understand': 387,\n",
       " 'terrible': 388,\n",
       " 'playing': 389,\n",
       " 'getting': 390,\n",
       " 'written': 391,\n",
       " 'early': 392,\n",
       " 'name': 393,\n",
       " 'doing': 394,\n",
       " 'often': 395,\n",
       " 'style': 396,\n",
       " 'keep': 397,\n",
       " 'perfect': 398,\n",
       " 'human': 399,\n",
       " 'others': 400,\n",
       " 'person': 401,\n",
       " 'definitely': 402,\n",
       " 'gives': 403,\n",
       " 'itself': 404,\n",
       " 'boy': 405,\n",
       " 'lines': 406,\n",
       " 'lost': 407,\n",
       " 'live': 408,\n",
       " 'become': 409,\n",
       " 'dialogue': 410,\n",
       " 'head': 411,\n",
       " 'piece': 412,\n",
       " 'finally': 413,\n",
       " 'case': 414,\n",
       " 'yes': 415,\n",
       " 'felt': 416,\n",
       " 'mother': 417,\n",
       " 'liked': 418,\n",
       " 'supposed': 419,\n",
       " 'children': 420,\n",
       " 'title': 421,\n",
       " 'couldn': 422,\n",
       " 'cinema': 423,\n",
       " 'white': 424,\n",
       " 'absolutely': 425,\n",
       " 'picture': 426,\n",
       " 'against': 427,\n",
       " 'sort': 428,\n",
       " 'worse': 429,\n",
       " 'certainly': 430,\n",
       " 'went': 431,\n",
       " 'entire': 432,\n",
       " 'waste': 433,\n",
       " 'killer': 434,\n",
       " 'problem': 435,\n",
       " 'oh': 436,\n",
       " 'mr': 437,\n",
       " 'hope': 438,\n",
       " 'evil': 439,\n",
       " 'entertaining': 440,\n",
       " 'friend': 441,\n",
       " 'overall': 442,\n",
       " 'called': 443,\n",
       " 'based': 444,\n",
       " 'loved': 445,\n",
       " 'fans': 446,\n",
       " 'several': 447,\n",
       " 'drama': 448,\n",
       " 'beginning': 449,\n",
       " 'lives': 450,\n",
       " 'direction': 451,\n",
       " 'care': 452,\n",
       " 'already': 453,\n",
       " 'dark': 454,\n",
       " 'becomes': 455,\n",
       " 'laugh': 456,\n",
       " 'example': 457,\n",
       " 'under': 458,\n",
       " 'despite': 459,\n",
       " 'seemed': 460,\n",
       " 'throughout': 461,\n",
       " 'turn': 462,\n",
       " 'son': 463,\n",
       " 'unfortunately': 464,\n",
       " 'wanted': 465,\n",
       " 'michael': 466,\n",
       " 'history': 467,\n",
       " 'heart': 468,\n",
       " 'final': 469,\n",
       " 'fine': 470,\n",
       " 'child': 471,\n",
       " 'sound': 472,\n",
       " 'amazing': 473,\n",
       " 'guess': 474,\n",
       " 'lead': 475,\n",
       " 'humor': 476,\n",
       " 'totally': 477,\n",
       " 'writing': 478,\n",
       " 'guys': 479,\n",
       " 'quality': 480,\n",
       " 'close': 481,\n",
       " 'art': 482,\n",
       " 'wants': 483,\n",
       " 'game': 484,\n",
       " 'behind': 485,\n",
       " 'works': 486,\n",
       " 'town': 487,\n",
       " 'side': 488,\n",
       " 'tries': 489,\n",
       " 'days': 490,\n",
       " 'past': 491,\n",
       " 'viewer': 492,\n",
       " 'able': 493,\n",
       " 'flick': 494,\n",
       " 'hand': 495,\n",
       " 'genre': 496,\n",
       " 'turns': 497,\n",
       " 'act': 498,\n",
       " 'enjoyed': 499,\n",
       " 'today': 500,\n",
       " 'kill': 501,\n",
       " 'favorite': 502,\n",
       " 'car': 503,\n",
       " 'soon': 504,\n",
       " 'starts': 505,\n",
       " 'run': 506,\n",
       " 'actress': 507,\n",
       " 'sometimes': 508,\n",
       " 'gave': 509,\n",
       " 'eyes': 510,\n",
       " 'b': 511,\n",
       " 'late': 512,\n",
       " 'girls': 513,\n",
       " 'etc': 514,\n",
       " 'god': 515,\n",
       " 'directed': 516,\n",
       " 'horrible': 517,\n",
       " 'kid': 518,\n",
       " 'city': 519,\n",
       " 'brilliant': 520,\n",
       " 'parts': 521,\n",
       " 'hour': 522,\n",
       " 'blood': 523,\n",
       " 'self': 524,\n",
       " 'themselves': 525,\n",
       " 'stories': 526,\n",
       " 'thinking': 527,\n",
       " 'expect': 528,\n",
       " 'stuff': 529,\n",
       " 'obviously': 530,\n",
       " 'decent': 531,\n",
       " 'voice': 532,\n",
       " 'writer': 533,\n",
       " 'fight': 534,\n",
       " 'highly': 535,\n",
       " 'myself': 536,\n",
       " 'feeling': 537,\n",
       " 'daughter': 538,\n",
       " 'slow': 539,\n",
       " 'except': 540,\n",
       " 'matter': 541,\n",
       " 'type': 542,\n",
       " 'age': 543,\n",
       " 'anyway': 544,\n",
       " 'roles': 545,\n",
       " 'moment': 546,\n",
       " 'killed': 547,\n",
       " 'heard': 548,\n",
       " 'says': 549,\n",
       " 'leave': 550,\n",
       " 'brother': 551,\n",
       " 'took': 552,\n",
       " 'strong': 553,\n",
       " 'cannot': 554,\n",
       " 'police': 555,\n",
       " 'violence': 556,\n",
       " 'hit': 557,\n",
       " 'stop': 558,\n",
       " 'happens': 559,\n",
       " 'known': 560,\n",
       " 'particularly': 561,\n",
       " 'involved': 562,\n",
       " 'happened': 563,\n",
       " 'chance': 564,\n",
       " 'extremely': 565,\n",
       " 'james': 566,\n",
       " 'obvious': 567,\n",
       " 'murder': 568,\n",
       " 'told': 569,\n",
       " 'living': 570,\n",
       " 'coming': 571,\n",
       " 'alone': 572,\n",
       " 'experience': 573,\n",
       " 'lack': 574,\n",
       " 'hero': 575,\n",
       " 'wouldn': 576,\n",
       " 'including': 577,\n",
       " 'attempt': 578,\n",
       " 'please': 579,\n",
       " 'happen': 580,\n",
       " 'gore': 581,\n",
       " 'crap': 582,\n",
       " 'wonder': 583,\n",
       " 'cut': 584,\n",
       " 'group': 585,\n",
       " 'complete': 586,\n",
       " 'ago': 587,\n",
       " 'interest': 588,\n",
       " 'none': 589,\n",
       " 'score': 590,\n",
       " 'husband': 591,\n",
       " 'hell': 592,\n",
       " 'save': 593,\n",
       " 'david': 594,\n",
       " 'simple': 595,\n",
       " 'ok': 596,\n",
       " 'looked': 597,\n",
       " 'song': 598,\n",
       " 'career': 599,\n",
       " 'number': 600,\n",
       " 'seriously': 601,\n",
       " 'possible': 602,\n",
       " 'annoying': 603,\n",
       " 'sad': 604,\n",
       " 'exactly': 605,\n",
       " 'shown': 606,\n",
       " 'king': 607,\n",
       " 'running': 608,\n",
       " 'musical': 609,\n",
       " 'yourself': 610,\n",
       " 'serious': 611,\n",
       " 'scary': 612,\n",
       " 'reality': 613,\n",
       " 'taken': 614,\n",
       " 'whose': 615,\n",
       " 'released': 616,\n",
       " 'cinematography': 617,\n",
       " 'english': 618,\n",
       " 'ends': 619,\n",
       " 'hours': 620,\n",
       " 'usually': 621,\n",
       " 'opening': 622,\n",
       " 'jokes': 623,\n",
       " 'light': 624,\n",
       " 'hilarious': 625,\n",
       " 'across': 626,\n",
       " 'cool': 627,\n",
       " 'body': 628,\n",
       " 'somewhat': 629,\n",
       " 'usual': 630,\n",
       " 'happy': 631,\n",
       " 'relationship': 632,\n",
       " 'ridiculous': 633,\n",
       " 'view': 634,\n",
       " 'level': 635,\n",
       " 'started': 636,\n",
       " 'change': 637,\n",
       " 'opinion': 638,\n",
       " 'wish': 639,\n",
       " 'novel': 640,\n",
       " 'middle': 641,\n",
       " 'talking': 642,\n",
       " 'taking': 643,\n",
       " 'documentary': 644,\n",
       " 'ones': 645,\n",
       " 'robert': 646,\n",
       " 'order': 647,\n",
       " 'shots': 648,\n",
       " 'finds': 649,\n",
       " 'power': 650,\n",
       " 'saying': 651,\n",
       " 'female': 652,\n",
       " 'huge': 653,\n",
       " 'room': 654,\n",
       " 'mostly': 655,\n",
       " 'episodes': 656,\n",
       " 'country': 657,\n",
       " 'five': 658,\n",
       " 'talent': 659,\n",
       " 'important': 660,\n",
       " 'rating': 661,\n",
       " 'modern': 662,\n",
       " 'earth': 663,\n",
       " 'strange': 664,\n",
       " 'major': 665,\n",
       " 'word': 666,\n",
       " 'turned': 667,\n",
       " 'call': 668,\n",
       " 'jack': 669,\n",
       " 'apparently': 670,\n",
       " 'single': 671,\n",
       " 'disappointed': 672,\n",
       " 'events': 673,\n",
       " 'four': 674,\n",
       " 'due': 675,\n",
       " 'songs': 676,\n",
       " 'basically': 677,\n",
       " 'attention': 678,\n",
       " 'television': 679,\n",
       " 'comic': 680,\n",
       " 'knows': 681,\n",
       " 'future': 682,\n",
       " 'non': 683,\n",
       " 'supporting': 684,\n",
       " 'clearly': 685,\n",
       " 'knew': 686,\n",
       " 'british': 687,\n",
       " 'fast': 688,\n",
       " 'thriller': 689,\n",
       " 'paul': 690,\n",
       " 'class': 691,\n",
       " 'easily': 692,\n",
       " 'cheap': 693,\n",
       " 'silly': 694,\n",
       " 'problems': 695,\n",
       " 'aren': 696,\n",
       " 'words': 697,\n",
       " 'miss': 698,\n",
       " 'tells': 699,\n",
       " 'entertainment': 700,\n",
       " 'local': 701,\n",
       " 'sequence': 702,\n",
       " 'rock': 703,\n",
       " 'bring': 704,\n",
       " 'beyond': 705,\n",
       " 'george': 706,\n",
       " 'straight': 707,\n",
       " 'oscar': 708,\n",
       " 'o': 709,\n",
       " 'upon': 710,\n",
       " 'romantic': 711,\n",
       " 'whether': 712,\n",
       " 'predictable': 713,\n",
       " 'moving': 714,\n",
       " 'sets': 715,\n",
       " 'similar': 716,\n",
       " 'review': 717,\n",
       " 'eye': 718,\n",
       " 'falls': 719,\n",
       " 'mystery': 720,\n",
       " 'lady': 721,\n",
       " 'richard': 722,\n",
       " 'talk': 723,\n",
       " 'enjoyable': 724,\n",
       " 'appears': 725,\n",
       " 'needs': 726,\n",
       " 'giving': 727,\n",
       " 'within': 728,\n",
       " 'message': 729,\n",
       " 'theater': 730,\n",
       " 'ten': 731,\n",
       " 'animation': 732,\n",
       " 'near': 733,\n",
       " 'team': 734,\n",
       " 'above': 735,\n",
       " 'sequel': 736,\n",
       " 'red': 737,\n",
       " 'sister': 738,\n",
       " 'dull': 739,\n",
       " 'theme': 740,\n",
       " 'stand': 741,\n",
       " 'nearly': 742,\n",
       " 'lee': 743,\n",
       " 'bunch': 744,\n",
       " 'points': 745,\n",
       " 'mention': 746,\n",
       " 'add': 747,\n",
       " 'york': 748,\n",
       " 'feels': 749,\n",
       " 'herself': 750,\n",
       " 'haven': 751,\n",
       " 'release': 752,\n",
       " 'ways': 753,\n",
       " 'storyline': 754,\n",
       " 'easy': 755,\n",
       " 'surprised': 756,\n",
       " 'using': 757,\n",
       " 'named': 758,\n",
       " 'fantastic': 759,\n",
       " 'lots': 760,\n",
       " 'begins': 761,\n",
       " 'working': 762,\n",
       " 'die': 763,\n",
       " 'actual': 764,\n",
       " 'effort': 765,\n",
       " 'feature': 766,\n",
       " 'tale': 767,\n",
       " 'french': 768,\n",
       " 'minute': 769,\n",
       " 'hate': 770,\n",
       " 'stay': 771,\n",
       " 'follow': 772,\n",
       " 'viewers': 773,\n",
       " 'clear': 774,\n",
       " 'tom': 775,\n",
       " 'elements': 776,\n",
       " 'among': 777,\n",
       " 'comments': 778,\n",
       " 'typical': 779,\n",
       " 'editing': 780,\n",
       " 'avoid': 781,\n",
       " 'showing': 782,\n",
       " 'tried': 783,\n",
       " 'season': 784,\n",
       " 'famous': 785,\n",
       " 'sorry': 786,\n",
       " 'fall': 787,\n",
       " 'dialog': 788,\n",
       " 'check': 789,\n",
       " 'peter': 790,\n",
       " 'period': 791,\n",
       " 'form': 792,\n",
       " 'certain': 793,\n",
       " 'general': 794,\n",
       " 'filmed': 795,\n",
       " 'buy': 796,\n",
       " 'soundtrack': 797,\n",
       " 'parents': 798,\n",
       " 'weak': 799,\n",
       " 'means': 800,\n",
       " 'material': 801,\n",
       " 'realistic': 802,\n",
       " 'figure': 803,\n",
       " 'doubt': 804,\n",
       " 'somehow': 805,\n",
       " 'crime': 806,\n",
       " 'space': 807,\n",
       " 'gone': 808,\n",
       " 'disney': 809,\n",
       " 'kept': 810,\n",
       " 'viewing': 811,\n",
       " 'leads': 812,\n",
       " 'greatest': 813,\n",
       " 'th': 814,\n",
       " 'dance': 815,\n",
       " 'lame': 816,\n",
       " 'suspense': 817,\n",
       " 'zombie': 818,\n",
       " 'third': 819,\n",
       " 'brought': 820,\n",
       " 'imagine': 821,\n",
       " 'atmosphere': 822,\n",
       " 'hear': 823,\n",
       " 'whatever': 824,\n",
       " 'particular': 825,\n",
       " 'de': 826,\n",
       " 'america': 827,\n",
       " 'sequences': 828,\n",
       " 'move': 829,\n",
       " 'indeed': 830,\n",
       " 'rent': 831,\n",
       " 'eventually': 832,\n",
       " 'average': 833,\n",
       " 'learn': 834,\n",
       " 'wait': 835,\n",
       " 'forget': 836,\n",
       " 'reviews': 837,\n",
       " 'deal': 838,\n",
       " 'note': 839,\n",
       " 'japanese': 840,\n",
       " 'surprise': 841,\n",
       " 'stage': 842,\n",
       " 'sexual': 843,\n",
       " 'poorly': 844,\n",
       " 'okay': 845,\n",
       " 'premise': 846,\n",
       " 'believable': 847,\n",
       " 'sit': 848,\n",
       " 'nature': 849,\n",
       " 'possibly': 850,\n",
       " 'subject': 851,\n",
       " 'decided': 852,\n",
       " 'expected': 853,\n",
       " 'truth': 854,\n",
       " 'imdb': 855,\n",
       " 'dr': 856,\n",
       " 'street': 857,\n",
       " 'free': 858,\n",
       " 'became': 859,\n",
       " 'screenplay': 860,\n",
       " 'difficult': 861,\n",
       " 'romance': 862,\n",
       " 'killing': 863,\n",
       " 'baby': 864,\n",
       " 'joe': 865,\n",
       " 'dog': 866,\n",
       " 'nor': 867,\n",
       " 'hot': 868,\n",
       " 'reading': 869,\n",
       " 'question': 870,\n",
       " 'needed': 871,\n",
       " 'leaves': 872,\n",
       " 'begin': 873,\n",
       " 'meets': 874,\n",
       " 'society': 875,\n",
       " 'directors': 876,\n",
       " 'unless': 877,\n",
       " 'credits': 878,\n",
       " 'shame': 879,\n",
       " 'superb': 880,\n",
       " 'otherwise': 881,\n",
       " 'write': 882,\n",
       " 'situation': 883,\n",
       " 'meet': 884,\n",
       " 'dramatic': 885,\n",
       " 'male': 886,\n",
       " 'memorable': 887,\n",
       " 'open': 888,\n",
       " 'badly': 889,\n",
       " 'earlier': 890,\n",
       " 'writers': 891,\n",
       " 'weird': 892,\n",
       " 'dream': 893,\n",
       " 'forced': 894,\n",
       " 'fi': 895,\n",
       " 'acted': 896,\n",
       " 'sci': 897,\n",
       " 'crazy': 898,\n",
       " 'laughs': 899,\n",
       " 'emotional': 900,\n",
       " 'jane': 901,\n",
       " 'older': 902,\n",
       " 'monster': 903,\n",
       " 'beauty': 904,\n",
       " 'realize': 905,\n",
       " 'comment': 906,\n",
       " 'deep': 907,\n",
       " 'footage': 908,\n",
       " 'forward': 909,\n",
       " 'interested': 910,\n",
       " 'ask': 911,\n",
       " 'fantasy': 912,\n",
       " 'whom': 913,\n",
       " 'plus': 914,\n",
       " 'sounds': 915,\n",
       " 'mark': 916,\n",
       " 'directing': 917,\n",
       " 'keeps': 918,\n",
       " 'development': 919,\n",
       " 'features': 920,\n",
       " 'mess': 921,\n",
       " 'air': 922,\n",
       " 'quickly': 923,\n",
       " 'creepy': 924,\n",
       " 'box': 925,\n",
       " 'towards': 926,\n",
       " 'girlfriend': 927,\n",
       " 'perfectly': 928,\n",
       " 'worked': 929,\n",
       " 'cheesy': 930,\n",
       " 'unique': 931,\n",
       " 'setting': 932,\n",
       " 'effect': 933,\n",
       " 'plenty': 934,\n",
       " 'total': 935,\n",
       " 'hands': 936,\n",
       " 'bill': 937,\n",
       " 'result': 938,\n",
       " 'previous': 939,\n",
       " 'fire': 940,\n",
       " 'brings': 941,\n",
       " 'personal': 942,\n",
       " 'incredibly': 943,\n",
       " 'rate': 944,\n",
       " 'business': 945,\n",
       " 'joke': 946,\n",
       " 'doctor': 947,\n",
       " 'casting': 948,\n",
       " 'return': 949,\n",
       " 'apart': 950,\n",
       " 'christmas': 951,\n",
       " 'leading': 952,\n",
       " 'e': 953,\n",
       " 'admit': 954,\n",
       " 'powerful': 955,\n",
       " 'appear': 956,\n",
       " 'cop': 957,\n",
       " 'background': 958,\n",
       " 'boys': 959,\n",
       " 'ben': 960,\n",
       " 'present': 961,\n",
       " 'meant': 962,\n",
       " 'era': 963,\n",
       " 'telling': 964,\n",
       " 'battle': 965,\n",
       " 'hardly': 966,\n",
       " 'break': 967,\n",
       " 'create': 968,\n",
       " 'masterpiece': 969,\n",
       " 'potential': 970,\n",
       " 'secret': 971,\n",
       " 'pay': 972,\n",
       " 'political': 973,\n",
       " 'gay': 974,\n",
       " 'fighting': 975,\n",
       " 'dumb': 976,\n",
       " 'fails': 977,\n",
       " 'twist': 978,\n",
       " 'various': 979,\n",
       " 'co': 980,\n",
       " 'portrayed': 981,\n",
       " 'inside': 982,\n",
       " 'villain': 983,\n",
       " 'western': 984,\n",
       " 'nudity': 985,\n",
       " 'outside': 986,\n",
       " 'reasons': 987,\n",
       " 'william': 988,\n",
       " 'ideas': 989,\n",
       " 'front': 990,\n",
       " 'match': 991,\n",
       " 'missing': 992,\n",
       " 'deserves': 993,\n",
       " 'married': 994,\n",
       " 'expecting': 995,\n",
       " 'rich': 996,\n",
       " 'fairly': 997,\n",
       " 'talented': 998,\n",
       " 'list': 999,\n",
       " 'success': 1000,\n",
       " ...}"
      ]
     },
     "execution_count": 12,
     "metadata": {},
     "output_type": "execute_result"
    }
   ],
   "source": [
    "vocab_to_int  # this indicates most occured words "
   ]
  },
  {
   "cell_type": "code",
   "execution_count": 13,
   "metadata": {},
   "outputs": [
    {
     "data": {
      "text/plain": [
       "74072"
      ]
     },
     "execution_count": 13,
     "metadata": {},
     "output_type": "execute_result"
    }
   ],
   "source": [
    "len(vocab_to_int)"
   ]
  },
  {
   "cell_type": "code",
   "execution_count": 14,
   "metadata": {},
   "outputs": [],
   "source": [
    "# now time to convert each reviews into tokens\n",
    "review_int = []\n",
    "for review in reviews_split:\n",
    "    review_int.append([vocab_to_int[word] for word in review.split()])"
   ]
  },
  {
   "cell_type": "code",
   "execution_count": 15,
   "metadata": {},
   "outputs": [
    {
     "name": "stdout",
     "output_type": "stream",
     "text": [
      "Unique words:  74072\n",
      "\n",
      "Tokenized review: \n",
      " [[21025, 308, 6, 3, 1050, 207, 8, 2138, 32, 1, 171, 57, 15, 49, 81, 5785, 44, 382, 110, 140, 15, 5194, 60, 154, 9, 1, 4975, 5852, 475, 71, 5, 260, 12, 21025, 308, 13, 1978, 6, 74, 2395, 5, 613, 73, 6, 5194, 1, 24103, 5, 1983, 10166, 1, 5786, 1499, 36, 51, 66, 204, 145, 67, 1199, 5194, 19869, 1, 37442, 4, 1, 221, 883, 31, 2988, 71, 4, 1, 5787, 10, 686, 2, 67, 1499, 54, 10, 216, 1, 383, 9, 62, 3, 1406, 3686, 783, 5, 3483, 180, 1, 382, 10, 1212, 13583, 32, 308, 3, 349, 341, 2913, 10, 143, 127, 5, 7690, 30, 4, 129, 5194, 1406, 2326, 5, 21025, 308, 10, 528, 12, 109, 1448, 4, 60, 543, 102, 12, 21025, 308, 6, 227, 4146, 48, 3, 2211, 12, 8, 215, 23]]\n",
      "\n",
      "Actual review : \n",
      " ['bromwell high is a cartoon comedy  it ran at the same time as some other programs about school life  such as  teachers   my   years in the teaching profession lead me to believe that bromwell high  s satire is much closer to reality than is  teachers   the scramble to survive financially  the insightful students who can see right through their pathetic teachers  pomp  the pettiness of the whole situation  all remind me of the schools i knew and their students  when i saw the episode in which a student repeatedly tried to burn down the school  i immediately recalled          at           high  a classic line inspector i  m here to sack one of your teachers  student welcome to bromwell high  i expect that many adults of my age think that bromwell high is far fetched  what a pity that it isn  t   ']\n"
     ]
    }
   ],
   "source": [
    "print('Unique words: ', len((vocab_to_int)))  # should ~ 74000+\n",
    "print()\n",
    "\n",
    "# print tokens in first review\n",
    "print('Tokenized review: \\n', review_int[:1])\n",
    "print()\n",
    "\n",
    "print('Actual review : \\n' , reviews_split[:1])"
   ]
  },
  {
   "cell_type": "code",
   "execution_count": 16,
   "metadata": {},
   "outputs": [
    {
     "data": {
      "text/plain": [
       "25001"
      ]
     },
     "execution_count": 16,
     "metadata": {},
     "output_type": "execute_result"
    }
   ],
   "source": [
    "len(review_int)"
   ]
  },
  {
   "cell_type": "markdown",
   "metadata": {},
   "source": [
    "### Encoading labels"
   ]
  },
  {
   "cell_type": "code",
   "execution_count": 17,
   "metadata": {},
   "outputs": [],
   "source": [
    "label = labels.split('\\n')\n",
    "encoded_label = np.array([1 if lab == 'positive' else 0 for lab in label])"
   ]
  },
  {
   "cell_type": "code",
   "execution_count": 18,
   "metadata": {},
   "outputs": [
    {
     "name": "stdout",
     "output_type": "stream",
     "text": [
      "25001\n"
     ]
    },
    {
     "data": {
      "text/plain": [
       "array([1, 0, 1, 0, 1, 0, 1, 0, 1, 0])"
      ]
     },
     "execution_count": 18,
     "metadata": {},
     "output_type": "execute_result"
    }
   ],
   "source": [
    "print(len(encoded_label))\n",
    "encoded_label[:10]"
   ]
  },
  {
   "cell_type": "code",
   "execution_count": 19,
   "metadata": {},
   "outputs": [
    {
     "name": "stdout",
     "output_type": "stream",
     "text": [
      "Zero-length reviews: 1\n",
      "Maximum review length: 2514\n"
     ]
    }
   ],
   "source": [
    "# removieng review of 0 length\n",
    "\n",
    "length = Counter([len(x) for x in review_int])\n",
    "\n",
    "print(\"Zero-length reviews: {}\".format(length[0]))\n",
    "print(\"Maximum review length: {}\".format(max(length)))"
   ]
  },
  {
   "cell_type": "code",
   "execution_count": 20,
   "metadata": {},
   "outputs": [
    {
     "name": "stdout",
     "output_type": "stream",
     "text": [
      "Number of reviews after removing outliers:  25000\n"
     ]
    }
   ],
   "source": [
    "## remove any reviews/labels with zero length from the reviews_ints list.\n",
    "\n",
    "# get indices of any reviews with length 0\n",
    "non_zero_idx = [ii for ii, review in enumerate(review_int) if len(review) != 0]\n",
    "\n",
    "# remove 0-length reviews and their labels\n",
    "reviews_ints = [review_int[ii] for ii in non_zero_idx]\n",
    "encoded_labels = np.array([encoded_label[ii] for ii in non_zero_idx])\n",
    "\n",
    "print('Number of reviews after removing outliers: ', len(reviews_ints))"
   ]
  },
  {
   "cell_type": "markdown",
   "metadata": {},
   "source": [
    "## Padding sequences"
   ]
  },
  {
   "cell_type": "code",
   "execution_count": 21,
   "metadata": {},
   "outputs": [],
   "source": [
    "# we can only give fixed length data to our model but here data is not fixed length so we need to fix them.\n",
    "# padding----->>> it is a process of adding 0 to our data token to increase lenght of our data to a specific limit\n",
    "# truncating----->>> it is a process of removing some tokens from our data to reduce data to a specific length"
   ]
  },
  {
   "cell_type": "code",
   "execution_count": 22,
   "metadata": {},
   "outputs": [],
   "source": [
    "# max length in our data is 2514.\n",
    "seq_length = 200  # all data will be of this length"
   ]
  },
  {
   "cell_type": "code",
   "execution_count": 23,
   "metadata": {},
   "outputs": [],
   "source": [
    "def pad_func(reviews_ints,seq_length):\n",
    "    \n",
    "    for x ,i in enumerate(reviews_ints):\n",
    "        \n",
    "        if len(i) > seq_length:\n",
    "            reviews_ints[x] = i[:seq_length]\n",
    "        if len(i) < seq_length:\n",
    "            y = seq_length - len(i)\n",
    "            for l in range(y):\n",
    "                i.insert(0,0)\n",
    "            reviews_ints[x] = i\n",
    "        \n",
    "    return reviews_ints"
   ]
  },
  {
   "cell_type": "code",
   "execution_count": 24,
   "metadata": {},
   "outputs": [],
   "source": [
    "features = pad_func(reviews_ints,seq_length)"
   ]
  },
  {
   "cell_type": "code",
   "execution_count": 25,
   "metadata": {},
   "outputs": [],
   "source": [
    "features = np.asarray(features)"
   ]
  },
  {
   "cell_type": "code",
   "execution_count": 26,
   "metadata": {},
   "outputs": [
    {
     "data": {
      "text/plain": [
       "25000"
      ]
     },
     "execution_count": 26,
     "metadata": {},
     "output_type": "execute_result"
    }
   ],
   "source": [
    "len(features)"
   ]
  },
  {
   "cell_type": "code",
   "execution_count": 27,
   "metadata": {},
   "outputs": [
    {
     "name": "stdout",
     "output_type": "stream",
     "text": [
      "[[    0     0     0     0     0     0     0     0     0     0]\n",
      " [    0     0     0     0     0     0     0     0     0     0]\n",
      " [22382    42 46418    15   706 17139  3389    47    77    35]\n",
      " [ 4505   505    15     3  3342   162  8312  1652     6  4819]\n",
      " [    0     0     0     0     0     0     0     0     0     0]\n",
      " [    0     0     0     0     0     0     0     0     0     0]\n",
      " [    0     0     0     0     0     0     0     0     0     0]\n",
      " [    0     0     0     0     0     0     0     0     0     0]\n",
      " [    0     0     0     0     0     0     0     0     0     0]\n",
      " [   54    10    14   116    60   798   552    71   364     5]\n",
      " [    0     0     0     0     0     0     0     0     0     0]\n",
      " [    0     0     0     0     0     0     0     0     0     0]\n",
      " [    0     0     0     0     0     0     0     0     0     0]\n",
      " [    1   330   578    34     3   162   748  2731     9   325]\n",
      " [    9    11 10171  5305  1946   689   444    22   280   673]\n",
      " [    0     0     0     0     0     0     0     0     0     0]\n",
      " [    1   307 10399  2069  1565  6202  6528  3288 17946 10628]\n",
      " [    0     0     0     0     0     0     0     0     0     0]\n",
      " [   21   122  2069  1565   515  8181    88     6  1325  1182]\n",
      " [    1    20     6    76    40     6    58    81    95     5]\n",
      " [   54    10    84   329 26230 46427    63    10    14   614]\n",
      " [   11    20     6    30  1436 32317  3769   690 15100     6]\n",
      " [    0     0     0     0     0     0     0     0     0     0]\n",
      " [    0     0     0     0     0     0     0     0     0     0]\n",
      " [   40    26   109 17952  1422     9     1   327     4   125]\n",
      " [    0     0     0     0     0     0     0     0     0     0]\n",
      " [   10   499     1   307 10399    55    74     8    13    30]\n",
      " [    0     0     0     0     0     0     0     0     0     0]\n",
      " [    0     0     0     0     0     0     0     0     0     0]\n",
      " [    0     0     0     0     0     0     0     0     0     0]]\n"
     ]
    }
   ],
   "source": [
    "print(features[:30,:10])"
   ]
  },
  {
   "cell_type": "code",
   "execution_count": 28,
   "metadata": {},
   "outputs": [
    {
     "data": {
      "text/plain": [
       "(25000, 200)"
      ]
     },
     "execution_count": 28,
     "metadata": {},
     "output_type": "execute_result"
    }
   ],
   "source": [
    "features.shape"
   ]
  },
  {
   "cell_type": "markdown",
   "metadata": {},
   "source": [
    "## Training, Validation, Test"
   ]
  },
  {
   "cell_type": "code",
   "execution_count": 29,
   "metadata": {},
   "outputs": [],
   "source": [
    "from sklearn.model_selection import train_test_split"
   ]
  },
  {
   "cell_type": "code",
   "execution_count": 30,
   "metadata": {},
   "outputs": [],
   "source": [
    "x_train, X_test, y_train, y_test = train_test_split(features,encoded_labels,test_size=0.2)"
   ]
  },
  {
   "cell_type": "code",
   "execution_count": 31,
   "metadata": {},
   "outputs": [],
   "source": [
    "vocub_size = len(vocab_to_int)+1\n",
    "embedding_size = 300\n",
    "\n",
    "input_words = 200"
   ]
  },
  {
   "cell_type": "code",
   "execution_count": 32,
   "metadata": {},
   "outputs": [],
   "source": [
    "model = Sequential()"
   ]
  },
  {
   "cell_type": "code",
   "execution_count": 33,
   "metadata": {},
   "outputs": [
    {
     "name": "stdout",
     "output_type": "stream",
     "text": [
      "WARNING:tensorflow:From c:\\python\\python37\\lib\\site-packages\\tensorflow\\python\\framework\\op_def_library.py:263: colocate_with (from tensorflow.python.framework.ops) is deprecated and will be removed in a future version.\n",
      "Instructions for updating:\n",
      "Colocations handled automatically by placer.\n",
      "WARNING:tensorflow:From c:\\python\\python37\\lib\\site-packages\\keras\\backend\\tensorflow_backend.py:3445: calling dropout (from tensorflow.python.ops.nn_ops) with keep_prob is deprecated and will be removed in a future version.\n",
      "Instructions for updating:\n",
      "Please use `rate` instead of `keep_prob`. Rate should be set to `rate = 1 - keep_prob`.\n"
     ]
    }
   ],
   "source": [
    "model.add(Embedding(input_dim=vocub_size , output_dim=embedding_size , input_length=seq_length))\n",
    "model.add(LSTM(units=200,dropout=0.3,return_sequences=True))\n",
    "model.add(LSTM(100))\n",
    "model.add(Dropout(0.25))\n",
    "model.add(Dense(1,activation='sigmoid'))"
   ]
  },
  {
   "cell_type": "code",
   "execution_count": 34,
   "metadata": {},
   "outputs": [
    {
     "name": "stdout",
     "output_type": "stream",
     "text": [
      "_________________________________________________________________\n",
      "Layer (type)                 Output Shape              Param #   \n",
      "=================================================================\n",
      "embedding_1 (Embedding)      (None, 200, 300)          22221900  \n",
      "_________________________________________________________________\n",
      "lstm_1 (LSTM)                (None, 200, 200)          400800    \n",
      "_________________________________________________________________\n",
      "lstm_2 (LSTM)                (None, 100)               120400    \n",
      "_________________________________________________________________\n",
      "dropout_1 (Dropout)          (None, 100)               0         \n",
      "_________________________________________________________________\n",
      "dense_1 (Dense)              (None, 1)                 101       \n",
      "=================================================================\n",
      "Total params: 22,743,201\n",
      "Trainable params: 22,743,201\n",
      "Non-trainable params: 0\n",
      "_________________________________________________________________\n"
     ]
    }
   ],
   "source": [
    "model.summary()"
   ]
  },
  {
   "cell_type": "code",
   "execution_count": 35,
   "metadata": {},
   "outputs": [],
   "source": [
    "model.compile(loss='binary_crossentropy', optimizer='adam', metrics=['accuracy'])"
   ]
  },
  {
   "cell_type": "code",
   "execution_count": 38,
   "metadata": {},
   "outputs": [
    {
     "name": "stdout",
     "output_type": "stream",
     "text": [
      "Train on 19000 samples, validate on 1000 samples\n",
      "Epoch 1/3\n",
      "19000/19000 [==============================] - 352s 19ms/step - loss: 0.6495 - acc: 0.6467 - val_loss: 0.5607 - val_acc: 0.7430\n",
      "Epoch 2/3\n",
      "19000/19000 [==============================] - 398s 21ms/step - loss: 0.4187 - acc: 0.8210 - val_loss: 0.4472 - val_acc: 0.7940\n",
      "Epoch 3/3\n",
      "19000/19000 [==============================] - 469s 25ms/step - loss: 0.2609 - acc: 0.9036 - val_loss: 0.3955 - val_acc: 0.8280\n"
     ]
    },
    {
     "data": {
      "text/plain": [
       "<keras.callbacks.History at 0x1ddaf92cef0>"
      ]
     },
     "execution_count": 38,
     "metadata": {},
     "output_type": "execute_result"
    }
   ],
   "source": [
    "model.fit(x_train,y_train,batch_size=1000,validation_split=0.05,epochs=3)"
   ]
  },
  {
   "cell_type": "markdown",
   "metadata": {},
   "source": [
    "### performance on test"
   ]
  },
  {
   "cell_type": "code",
   "execution_count": 39,
   "metadata": {},
   "outputs": [
    {
     "name": "stdout",
     "output_type": "stream",
     "text": [
      "5000/5000 [==============================] - 57s 11ms/step\n"
     ]
    },
    {
     "data": {
      "text/plain": [
       "[0.37576404457092283, 0.8412]"
      ]
     },
     "execution_count": 39,
     "metadata": {},
     "output_type": "execute_result"
    }
   ],
   "source": [
    "model.evaluate(X_test,y_test)"
   ]
  },
  {
   "cell_type": "code",
   "execution_count": 85,
   "metadata": {},
   "outputs": [
    {
     "data": {
      "text/plain": [
       "(5000, 200)"
      ]
     },
     "execution_count": 85,
     "metadata": {},
     "output_type": "execute_result"
    }
   ],
   "source": [
    "X_test.shape"
   ]
  },
  {
   "cell_type": "markdown",
   "metadata": {},
   "source": [
    "Prediction"
   ]
  },
  {
   "cell_type": "code",
   "execution_count": 41,
   "metadata": {},
   "outputs": [],
   "source": [
    "pred = model.predict(X_test)"
   ]
  },
  {
   "cell_type": "code",
   "execution_count": 43,
   "metadata": {},
   "outputs": [],
   "source": [
    "from sklearn.metrics import accuracy_score"
   ]
  },
  {
   "cell_type": "code",
   "execution_count": 44,
   "metadata": {},
   "outputs": [
    {
     "data": {
      "text/plain": [
       "(5000, 1)"
      ]
     },
     "execution_count": 44,
     "metadata": {},
     "output_type": "execute_result"
    }
   ],
   "source": [
    "pred.shape"
   ]
  },
  {
   "cell_type": "code",
   "execution_count": 51,
   "metadata": {},
   "outputs": [
    {
     "data": {
      "text/plain": [
       "(5000,)"
      ]
     },
     "execution_count": 51,
     "metadata": {},
     "output_type": "execute_result"
    }
   ],
   "source": [
    "y_test.shape"
   ]
  },
  {
   "cell_type": "code",
   "execution_count": 57,
   "metadata": {},
   "outputs": [],
   "source": [
    "# making pred either 0 or 1\n",
    "y_pred =[]\n",
    "for i in pred:\n",
    "    y_pred.append(round(i[0]))"
   ]
  },
  {
   "cell_type": "code",
   "execution_count": 58,
   "metadata": {},
   "outputs": [
    {
     "data": {
      "text/plain": [
       "1"
      ]
     },
     "execution_count": 58,
     "metadata": {},
     "output_type": "execute_result"
    }
   ],
   "source": [
    "y_test[890]"
   ]
  },
  {
   "cell_type": "code",
   "execution_count": 59,
   "metadata": {},
   "outputs": [
    {
     "data": {
      "text/plain": [
       "1.0"
      ]
     },
     "execution_count": 59,
     "metadata": {},
     "output_type": "execute_result"
    }
   ],
   "source": [
    "y_pred[890]"
   ]
  },
  {
   "cell_type": "code",
   "execution_count": 60,
   "metadata": {},
   "outputs": [
    {
     "data": {
      "text/plain": [
       "0.8412"
      ]
     },
     "execution_count": 60,
     "metadata": {},
     "output_type": "execute_result"
    }
   ],
   "source": [
    "accuracy_score(y_test,y_pred)"
   ]
  },
  {
   "cell_type": "markdown",
   "metadata": {},
   "source": [
    "# Working on new data"
   ]
  },
  {
   "cell_type": "code",
   "execution_count": 89,
   "metadata": {},
   "outputs": [],
   "source": [
    "text1 = \"This movie is fantastic! I really like it because it is so good!\"\n",
    "text2 = \"Good movie!\"\n",
    "text3 = \"Maybe I like this movie.\"\n",
    "text4 = \"Meh ...\"\n",
    "text5 = \"If I were a drunk teenager then this movie might be good.\"\n",
    "text6 = \"Bad movie!\"\n",
    "text7 = \"Not a good movie!\"\n",
    "text8 = \"This movie really sucks! Can I get my money back please?\"\n",
    "texts = [text1, text2, text3, text4, text5, text6, text7, text8]"
   ]
  },
  {
   "cell_type": "code",
   "execution_count": 102,
   "metadata": {},
   "outputs": [],
   "source": [
    "def tokenize_review(test_review):\n",
    "    test_review = test_review.lower() # lowercase\n",
    "    # get rid of punctuation\n",
    "    test_text = ''.join([c for c in test_review if c not in punctuation])\n",
    "\n",
    "    # splitting by spaces\n",
    "    test_words = test_text.split()\n",
    "\n",
    "    # tokens\n",
    "    test_ints = []\n",
    "    test_ints.append([vocab_to_int[word] for word in test_words])\n",
    "\n",
    "    return test_ints"
   ]
  },
  {
   "cell_type": "code",
   "execution_count": 103,
   "metadata": {},
   "outputs": [],
   "source": [
    "text_int = []\n",
    "for text in texts:\n",
    "    text_int.append(tokenize_review(text))"
   ]
  },
  {
   "cell_type": "code",
   "execution_count": 104,
   "metadata": {},
   "outputs": [
    {
     "data": {
      "text/plain": [
       "8"
      ]
     },
     "execution_count": 104,
     "metadata": {},
     "output_type": "execute_result"
    }
   ],
   "source": [
    "len(text_int)"
   ]
  },
  {
   "cell_type": "code",
   "execution_count": 111,
   "metadata": {},
   "outputs": [
    {
     "data": {
      "text/plain": [
       "[[11, 18, 6, 759, 10, 65, 39, 8, 86, 8, 6, 37, 50],\n",
       " [50, 18],\n",
       " [277, 10, 39, 11, 18],\n",
       " [23472],\n",
       " [46, 10, 70, 3, 1793, 2277, 93, 11, 18, 233, 29, 50],\n",
       " [76, 18],\n",
       " [24, 3, 50, 18],\n",
       " [11, 18, 65, 1853, 51, 10, 75, 60, 273, 144, 579]]"
      ]
     },
     "execution_count": 111,
     "metadata": {},
     "output_type": "execute_result"
    }
   ],
   "source": [
    "text_ints = []\n",
    "for i in text_int:\n",
    "    text_ints.append(i[0])\n",
    "text_ints"
   ]
  },
  {
   "cell_type": "code",
   "execution_count": 112,
   "metadata": {},
   "outputs": [],
   "source": [
    "test = pad_func(text_ints,seq_length)"
   ]
  },
  {
   "cell_type": "code",
   "execution_count": 113,
   "metadata": {},
   "outputs": [
    {
     "data": {
      "text/plain": [
       "(8, 200)"
      ]
     },
     "execution_count": 113,
     "metadata": {},
     "output_type": "execute_result"
    }
   ],
   "source": [
    "test = np.asarray(test)\n",
    "test.shape"
   ]
  },
  {
   "cell_type": "code",
   "execution_count": 114,
   "metadata": {},
   "outputs": [],
   "source": [
    "# making predction"
   ]
  },
  {
   "cell_type": "code",
   "execution_count": 121,
   "metadata": {},
   "outputs": [
    {
     "data": {
      "text/plain": [
       "array([[0.48941648],\n",
       "       [0.05284208],\n",
       "       [0.05284262],\n",
       "       [0.04335314],\n",
       "       [0.03752649],\n",
       "       [0.03189379],\n",
       "       [0.05792692],\n",
       "       [0.06281474]], dtype=float32)"
      ]
     },
     "execution_count": 121,
     "metadata": {},
     "output_type": "execute_result"
    }
   ],
   "source": [
    "pred = model.predict(test)\n",
    "\n",
    "pred"
   ]
  },
  {
   "cell_type": "code",
   "execution_count": null,
   "metadata": {},
   "outputs": [],
   "source": []
  }
 ],
 "metadata": {
  "kernelspec": {
   "display_name": "Python 3",
   "language": "python",
   "name": "python3"
  },
  "language_info": {
   "codemirror_mode": {
    "name": "ipython",
    "version": 3
   },
   "file_extension": ".py",
   "mimetype": "text/x-python",
   "name": "python",
   "nbconvert_exporter": "python",
   "pygments_lexer": "ipython3",
   "version": "3.7.0"
  }
 },
 "nbformat": 4,
 "nbformat_minor": 2
}
